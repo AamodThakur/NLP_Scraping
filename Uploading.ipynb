{
 "cells": [
  {
   "cell_type": "code",
   "execution_count": 10,
   "id": "b762e090-4f41-425c-aa0f-859d3d07e0f3",
   "metadata": {},
   "outputs": [],
   "source": [
    "import pandas as pd\n",
    "from datasets import Dataset, DatasetDict\n",
    "from huggingface_hub import HfApi, HfFolder"
   ]
  },
  {
   "cell_type": "code",
   "execution_count": 2,
   "id": "9e5405e2-87b4-4100-aa79-ee9b215cbbc1",
   "metadata": {},
   "outputs": [],
   "source": [
    "# Load your CSV file into a pandas DataFrame\n",
    "df = pd.read_csv(\"url.csv\")\n",
    "\n",
    "# Convert the DataFrame to a Hugging Face dataset\n",
    "dataset = Dataset.from_pandas(df)"
   ]
  },
  {
   "cell_type": "code",
   "execution_count": 8,
   "id": "f4239ff1-0913-4d01-9255-d21bd25a7df5",
   "metadata": {},
   "outputs": [],
   "source": [
    "api = HfApi()\n",
    "HfFolder.save_token(\"hf_QhnFqyuMuhrHRggfvfsBtutVTsOVaXGfb\")\n",
    "repo_name = \"aamodthakur/test1\""
   ]
  },
  {
   "cell_type": "code",
   "execution_count": 9,
   "id": "59a3eb3c-0cf2-4247-9e7f-f2976418f9ff",
   "metadata": {},
   "outputs": [
    {
     "data": {
      "application/vnd.jupyter.widget-view+json": {
       "model_id": "5ee6b1ac609d404cac3086f822716f3e",
       "version_major": 2,
       "version_minor": 0
      },
      "text/plain": [
       "Uploading the dataset shards:   0%|          | 0/1 [00:00<?, ?it/s]"
      ]
     },
     "metadata": {},
     "output_type": "display_data"
    },
    {
     "data": {
      "application/vnd.jupyter.widget-view+json": {
       "model_id": "8ac58792180b43edb52b6f6ae86dcc5c",
       "version_major": 2,
       "version_minor": 0
      },
      "text/plain": [
       "Creating parquet from Arrow format:   0%|          | 0/1 [00:00<?, ?ba/s]"
      ]
     },
     "metadata": {},
     "output_type": "display_data"
    },
    {
     "data": {
      "text/plain": [
       "CommitInfo(commit_url='https://huggingface.co/datasets/aamodthakur/test1/commit/1b40bba30f6cdea5343dddfbd978c8045234d2b5', commit_message='Upload dataset', commit_description='', oid='1b40bba30f6cdea5343dddfbd978c8045234d2b5', pr_url=None, pr_revision=None, pr_num=None)"
      ]
     },
     "execution_count": 9,
     "metadata": {},
     "output_type": "execute_result"
    }
   ],
   "source": [
    "dataset.push_to_hub(repo_name)"
   ]
  }
 ],
 "metadata": {
  "kernelspec": {
   "display_name": "Python 3 (ipykernel)",
   "language": "python",
   "name": "python3"
  },
  "language_info": {
   "codemirror_mode": {
    "name": "ipython",
    "version": 3
   },
   "file_extension": ".py",
   "mimetype": "text/x-python",
   "name": "python",
   "nbconvert_exporter": "python",
   "pygments_lexer": "ipython3",
   "version": "3.10.13"
  }
 },
 "nbformat": 4,
 "nbformat_minor": 5
}
