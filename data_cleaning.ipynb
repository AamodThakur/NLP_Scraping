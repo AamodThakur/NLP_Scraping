{
 "cells": [
  {
   "cell_type": "code",
   "execution_count": 9,
   "id": "d77d70d6-6cef-453b-a48f-84ebb6d080aa",
   "metadata": {},
   "outputs": [],
   "source": [
    "import pandas as pd"
   ]
  },
  {
   "cell_type": "code",
   "execution_count": 12,
   "id": "ab3bf1cd-11c1-44e8-b2a5-b3acae2a7655",
   "metadata": {},
   "outputs": [],
   "source": [
    "df = pd.read_csv(\"dummy_data.csv\")"
   ]
  },
  {
   "cell_type": "code",
   "execution_count": 8,
   "id": "2f451d88-8a61-4ee1-96ce-d3833d286c84",
   "metadata": {},
   "outputs": [],
   "source": [
    "unwanted_words = [\" hi \", \" hello \"]"
   ]
  },
  {
   "cell_type": "code",
   "execution_count": 11,
   "id": "38ed318e-13fc-42ba-8ba9-d581417366ee",
   "metadata": {},
   "outputs": [],
   "source": [
    "unwanted_data_pattern = \"|\".join(unwanted_words)"
   ]
  },
  {
   "cell_type": "code",
   "execution_count": 15,
   "id": "24019533-d568-4e55-80fa-ef48ea866946",
   "metadata": {},
   "outputs": [],
   "source": [
    "bool_df = df[\"content\"].str.contains(unwanted_data_pattern, regex=True)"
   ]
  },
  {
   "cell_type": "code",
   "execution_count": 18,
   "id": "d04ba694-37b6-4c80-8f21-9b3abb7a5286",
   "metadata": {},
   "outputs": [
    {
     "data": {
      "text/html": [
       "<div>\n",
       "<style scoped>\n",
       "    .dataframe tbody tr th:only-of-type {\n",
       "        vertical-align: middle;\n",
       "    }\n",
       "\n",
       "    .dataframe tbody tr th {\n",
       "        vertical-align: top;\n",
       "    }\n",
       "\n",
       "    .dataframe thead th {\n",
       "        text-align: right;\n",
       "    }\n",
       "</style>\n",
       "<table border=\"1\" class=\"dataframe\">\n",
       "  <thead>\n",
       "    <tr style=\"text-align: right;\">\n",
       "      <th></th>\n",
       "      <th>url</th>\n",
       "      <th>heading</th>\n",
       "      <th>content</th>\n",
       "    </tr>\n",
       "  </thead>\n",
       "  <tbody>\n",
       "    <tr>\n",
       "      <th>0</th>\n",
       "      <td>https://www.bbc.com/news/articles/cd1646ewzleo</td>\n",
       "      <td>The mind-bending mirrors behind advanced techn...</td>\n",
       "      <td>High on a mountain, in Chile's bone dry Atacam...</td>\n",
       "    </tr>\n",
       "    <tr>\n",
       "      <th>1</th>\n",
       "      <td>https://www.bbc.com/news/articles/cd1646ewzleo</td>\n",
       "      <td>The mind-bending mirrors behind advanced techn...</td>\n",
       "      <td>High on a mountain, in Chile's bone dry Atacam...</td>\n",
       "    </tr>\n",
       "  </tbody>\n",
       "</table>\n",
       "</div>"
      ],
      "text/plain": [
       "                                              url  \\\n",
       "0  https://www.bbc.com/news/articles/cd1646ewzleo   \n",
       "1  https://www.bbc.com/news/articles/cd1646ewzleo   \n",
       "\n",
       "                                             heading  \\\n",
       "0  The mind-bending mirrors behind advanced techn...   \n",
       "1  The mind-bending mirrors behind advanced techn...   \n",
       "\n",
       "                                             content  \n",
       "0  High on a mountain, in Chile's bone dry Atacam...  \n",
       "1  High on a mountain, in Chile's bone dry Atacam...  "
      ]
     },
     "execution_count": 18,
     "metadata": {},
     "output_type": "execute_result"
    }
   ],
   "source": [
    "df[~bool_df]"
   ]
  }
 ],
 "metadata": {
  "kernelspec": {
   "display_name": "Python 3 (ipykernel)",
   "language": "python",
   "name": "python3"
  },
  "language_info": {
   "codemirror_mode": {
    "name": "ipython",
    "version": 3
   },
   "file_extension": ".py",
   "mimetype": "text/x-python",
   "name": "python",
   "nbconvert_exporter": "python",
   "pygments_lexer": "ipython3",
   "version": "3.10.13"
  }
 },
 "nbformat": 4,
 "nbformat_minor": 5
}
