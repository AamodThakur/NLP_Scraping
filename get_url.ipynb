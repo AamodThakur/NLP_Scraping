{
 "cells": [
  {
   "cell_type": "markdown",
   "id": "e2e173dd-465c-4970-9adc-1d69c3f7f3b6",
   "metadata": {},
   "source": [
    "This is a demo code used for scraping BBC news. \\\\\\\n",
    "It will only scrape all articles in 2nd page of bbc news."
   ]
  },
  {
   "cell_type": "code",
   "execution_count": null,
   "id": "a5c71bdf-d7f3-4d9b-90e6-c3f480021b69",
   "metadata": {},
   "outputs": [],
   "source": [
    "!pip install selenium -q"
   ]
  },
  {
   "cell_type": "code",
   "execution_count": 14,
   "id": "b865e6a5-e681-4dc5-8b90-52e49e0e5f7c",
   "metadata": {},
   "outputs": [],
   "source": [
    "from selenium import webdriver\n",
    "from selenium.webdriver.common.by import By\n",
    "from selenium.webdriver.chrome.options import Options\n",
    "import pandas as pd"
   ]
  },
  {
   "cell_type": "code",
   "execution_count": 3,
   "id": "7f8186ec-3eb3-4187-bc61-f7899ca29e0b",
   "metadata": {},
   "outputs": [],
   "source": [
    "base_url = \"https://www.bbc.com/business/technology-of-business\""
   ]
  },
  {
   "cell_type": "code",
   "execution_count": null,
   "id": "770121a8-e7fb-4e5f-91c6-210831b5f6a2",
   "metadata": {},
   "outputs": [],
   "source": [
    "## If chrome issue use the below code.\n",
    "try:\n",
    "    driver = webdriver.Chrome()\n",
    "except:\n",
    "    chrome_options = Options()\n",
    "    chrome_options.add_argument(\"--headless\")\n",
    "    chrome_options.add_argument(\"--no-sandbox\")\n",
    "    chrome_options.add_argument(\"--disable-dev-shm-usage\")\n",
    "    driver = webdriver.Chrome(options=chrome_options)\n",
    "    print(\"Running in headless mode.\")"
   ]
  },
  {
   "cell_type": "code",
   "execution_count": 5,
   "id": "b3082731-59d9-4f17-9f90-818939dffbbd",
   "metadata": {},
   "outputs": [],
   "source": [
    "driver.get(base_url)"
   ]
  },
  {
   "cell_type": "code",
   "execution_count": 6,
   "id": "00e85f8a-787a-4397-8791-45bbc72c3804",
   "metadata": {},
   "outputs": [],
   "source": [
    "link = []"
   ]
  },
  {
   "cell_type": "markdown",
   "id": "5d956577-e22e-4de1-87f2-c063135bc97e",
   "metadata": {},
   "source": [
    "#### Buttons"
   ]
  },
  {
   "cell_type": "markdown",
   "id": "727bcfd8-04f5-4701-9c34-3d52f92e6f2e",
   "metadata": {},
   "source": [
    "##### Getting specific section/division containing page numbers."
   ]
  },
  {
   "cell_type": "code",
   "execution_count": 10,
   "id": "5354a5f6-f311-4240-adda-b677cf2e7067",
   "metadata": {},
   "outputs": [],
   "source": [
    "next_button = driver.find_elements(By.CSS_SELECTOR, '[data-testid=\"pagination-next-button\"]')\n",
    "if len(next_button) != 1:\n",
    "    print(f\"Some problem with link: {base_url}\")"
   ]
  },
  {
   "cell_type": "code",
   "execution_count": 11,
   "id": "6a8ca81b-27c4-4976-9b65-1fe88c4e30f0",
   "metadata": {},
   "outputs": [],
   "source": [
    "next_button[0].click()"
   ]
  },
  {
   "cell_type": "markdown",
   "id": "2389ad0a-9703-44c5-a006-c15887572069",
   "metadata": {},
   "source": [
    "#### Link Extraction"
   ]
  },
  {
   "cell_type": "markdown",
   "id": "0cc3e62c-ce83-4571-99de-59ecccc75b0b",
   "metadata": {},
   "source": [
    "##### Getting specific section/division tag. \\<div>"
   ]
  },
  {
   "cell_type": "code",
   "execution_count": 7,
   "id": "58e04222-7a81-42f0-ac37-2955299c18e8",
   "metadata": {
    "scrolled": true
   },
   "outputs": [],
   "source": [
    "div1 = driver.find_elements(By.CSS_SELECTOR, '[data-testid=\"alaska-grid\"]')\n",
    "if len(div1) != 1:\n",
    "    print(f\"Some problem with link: {base_url}\")"
   ]
  },
  {
   "cell_type": "markdown",
   "id": "7c913fa1-1690-4864-a733-cfe295083db0",
   "metadata": {},
   "source": [
    "##### Extracting all anchor tag \\<a> in the division"
   ]
  },
  {
   "cell_type": "code",
   "execution_count": 8,
   "id": "300f3dbe-08fb-49c0-86e1-39caf3ac5658",
   "metadata": {},
   "outputs": [],
   "source": [
    "tag_a = div1[0].find_elements(By.TAG_NAME, 'a')\n",
    "if len(tag_a) < 1:\n",
    "    print(f\"Some problem with link: {base_url}\")"
   ]
  },
  {
   "cell_type": "markdown",
   "id": "85c87385-5441-4d95-854e-db7a50ca7b69",
   "metadata": {},
   "source": [
    "##### Extracting link from the anchor tag \\<a>"
   ]
  },
  {
   "cell_type": "code",
   "execution_count": 9,
   "id": "5ff94b60-e61f-4bfc-ad36-6bc856dde178",
   "metadata": {},
   "outputs": [],
   "source": [
    "for i in range(len(tag_a)):\n",
    "    link.append(tag_a[i].get_attribute(\"href\"))"
   ]
  },
  {
   "cell_type": "markdown",
   "id": "725db3db-6bc6-441c-9130-ccb06c138318",
   "metadata": {},
   "source": [
    "##### Closing driver"
   ]
  },
  {
   "cell_type": "code",
   "execution_count": 12,
   "id": "68cb80d1-8cb4-4073-bed4-c639576ee6d8",
   "metadata": {},
   "outputs": [],
   "source": [
    "driver.close()"
   ]
  },
  {
   "cell_type": "markdown",
   "id": "9255c349-2e1c-4ba1-a2d5-4544cdca00b5",
   "metadata": {},
   "source": [
    "#### Saving the links"
   ]
  },
  {
   "cell_type": "code",
   "execution_count": 16,
   "id": "e29283bb-4556-48ca-a57b-2911faa47ae1",
   "metadata": {},
   "outputs": [],
   "source": [
    "df = pd.DataFrame(columns=[\"url\"])"
   ]
  },
  {
   "cell_type": "code",
   "execution_count": 17,
   "id": "cd407d5c-9ed6-40f6-a9d8-820626e5e6ac",
   "metadata": {},
   "outputs": [],
   "source": [
    "for i in range(len(link)):\n",
    "    df.loc[len(df)] = [link[i]]"
   ]
  },
  {
   "cell_type": "code",
   "execution_count": 20,
   "id": "40733695-c2c4-48df-9e72-f595879e08f2",
   "metadata": {},
   "outputs": [
    {
     "data": {
      "text/html": [
       "<div>\n",
       "<style scoped>\n",
       "    .dataframe tbody tr th:only-of-type {\n",
       "        vertical-align: middle;\n",
       "    }\n",
       "\n",
       "    .dataframe tbody tr th {\n",
       "        vertical-align: top;\n",
       "    }\n",
       "\n",
       "    .dataframe thead th {\n",
       "        text-align: right;\n",
       "    }\n",
       "</style>\n",
       "<table border=\"1\" class=\"dataframe\">\n",
       "  <thead>\n",
       "    <tr style=\"text-align: right;\">\n",
       "      <th></th>\n",
       "      <th>url</th>\n",
       "    </tr>\n",
       "  </thead>\n",
       "  <tbody>\n",
       "    <tr>\n",
       "      <th>0</th>\n",
       "      <td>https://www.bbc.com/news/articles/cg64pwxzln4o</td>\n",
       "    </tr>\n",
       "    <tr>\n",
       "      <th>1</th>\n",
       "      <td>https://www.bbc.com/news/articles/cn47zg3xgxxo</td>\n",
       "    </tr>\n",
       "    <tr>\n",
       "      <th>2</th>\n",
       "      <td>https://www.bbc.com/news/articles/ce58nvdg327o</td>\n",
       "    </tr>\n",
       "    <tr>\n",
       "      <th>3</th>\n",
       "      <td>https://www.bbc.com/news/articles/cd1646ewzleo</td>\n",
       "    </tr>\n",
       "    <tr>\n",
       "      <th>4</th>\n",
       "      <td>https://www.bbc.com/news/articles/c51yd4j4lnvo</td>\n",
       "    </tr>\n",
       "    <tr>\n",
       "      <th>5</th>\n",
       "      <td>https://www.bbc.com/news/articles/crge77e9j19o</td>\n",
       "    </tr>\n",
       "    <tr>\n",
       "      <th>6</th>\n",
       "      <td>https://www.bbc.com/news/articles/clmydee2grno</td>\n",
       "    </tr>\n",
       "    <tr>\n",
       "      <th>7</th>\n",
       "      <td>https://www.bbc.com/news/articles/c722xdddl4po</td>\n",
       "    </tr>\n",
       "    <tr>\n",
       "      <th>8</th>\n",
       "      <td>https://www.bbc.com/news/articles/crg4d5vn0n0o</td>\n",
       "    </tr>\n",
       "  </tbody>\n",
       "</table>\n",
       "</div>"
      ],
      "text/plain": [
       "                                              url\n",
       "0  https://www.bbc.com/news/articles/cg64pwxzln4o\n",
       "1  https://www.bbc.com/news/articles/cn47zg3xgxxo\n",
       "2  https://www.bbc.com/news/articles/ce58nvdg327o\n",
       "3  https://www.bbc.com/news/articles/cd1646ewzleo\n",
       "4  https://www.bbc.com/news/articles/c51yd4j4lnvo\n",
       "5  https://www.bbc.com/news/articles/crge77e9j19o\n",
       "6  https://www.bbc.com/news/articles/clmydee2grno\n",
       "7  https://www.bbc.com/news/articles/c722xdddl4po\n",
       "8  https://www.bbc.com/news/articles/crg4d5vn0n0o"
      ]
     },
     "execution_count": 20,
     "metadata": {},
     "output_type": "execute_result"
    }
   ],
   "source": [
    "df"
   ]
  },
  {
   "cell_type": "code",
   "execution_count": 19,
   "id": "dfbf1b52-3447-4e1c-90d8-8134666db0a0",
   "metadata": {},
   "outputs": [],
   "source": [
    "df.to_csv(\"url.csv\", index=False)"
   ]
  },
  {
   "cell_type": "code",
   "execution_count": null,
   "id": "825e84c1-ebf8-4372-bf24-d2ec1dbba859",
   "metadata": {},
   "outputs": [],
   "source": []
  }
 ],
 "metadata": {
  "kernelspec": {
   "display_name": "Python 3 (ipykernel)",
   "language": "python",
   "name": "python3"
  },
  "language_info": {
   "codemirror_mode": {
    "name": "ipython",
    "version": 3
   },
   "file_extension": ".py",
   "mimetype": "text/x-python",
   "name": "python",
   "nbconvert_exporter": "python",
   "pygments_lexer": "ipython3",
   "version": "3.10.13"
  }
 },
 "nbformat": 4,
 "nbformat_minor": 5
}
